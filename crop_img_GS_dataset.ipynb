{
 "cells": [
  {
   "cell_type": "code",
   "execution_count": 1,
   "metadata": {},
   "outputs": [],
   "source": [
    "from __future__ import absolute_import\n",
    "from __future__ import division\n",
    "from __future__ import print_function\n",
    "\n",
    "import numpy as np\n",
    "import scipy.stats as st\n",
    "\n",
    "import sys\n",
    "import argparse\n",
    "import os\n",
    "import glob \n",
    "\n",
    "import matplotlib\n",
    "import matplotlib.pyplot as plt\n",
    "\n",
    "import face_recognition\n",
    "import scipy.misc\n",
    "import matplotlib.image as mpimg"
   ]
  },
  {
   "cell_type": "code",
   "execution_count": 2,
   "metadata": {},
   "outputs": [],
   "source": [
    "img_names = glob.glob(\"./PPB-2017/*.jpg\")"
   ]
  },
  {
   "cell_type": "code",
   "execution_count": 3,
   "metadata": {},
   "outputs": [
    {
     "name": "stderr",
     "output_type": "stream",
     "text": [
      "/Users/wuzhejun/anaconda3/lib/python3.6/site-packages/ipykernel_launcher.py:15: DeprecationWarning: `imsave` is deprecated!\n",
      "`imsave` is deprecated in SciPy 1.0.0, and will be removed in 1.2.0.\n",
      "Use ``imageio.imwrite`` instead.\n",
      "  from ipykernel import kernelapp as app\n"
     ]
    },
    {
     "name": "stdout",
     "output_type": "stream",
     "text": [
      "./PPB-2017/0612_6_f_RW.jpg\n",
      "./PPB-2017/0628_6_f_RW.jpg\n",
      "./PPB-2017/0629_5_f_RW.jpg\n",
      "./PPB-2017/0650_5_f_RW.jpg\n",
      "./PPB-2017/0654_6_f_RW.jpg\n",
      "./PPB-2017/0656_6_m_RW.jpg\n",
      "./PPB-2017/0660_6_m_RW.jpg\n",
      "./PPB-2017/0666_5_m_RW.jpg\n",
      "./PPB-2017/0676_6_m_RW.jpg\n",
      "./PPB-2017/0758_6_m_SE.jpg\n",
      "./PPB-2017/0765_6_m_SE.jpg\n",
      "./PPB-2017/0779_6_m_SE.jpg\n",
      "./PPB-2017/0787_6_m_SE.jpg\n",
      "./PPB-2017/0789_6_m_SE.jpg\n",
      "./PPB-2017/0808_6_m_SE.jpg\n",
      "./PPB-2017/0815_6_m_SE.jpg\n",
      "./PPB-2017/1237_5_m_SA.jpg\n"
     ]
    }
   ],
   "source": [
    "img_names_sorted = sorted(img_names)\n",
    "for filename in img_names_sorted:\n",
    "    image = face_recognition.load_image_file(filename)\n",
    "    face_locations = face_recognition.face_locations(image)\n",
    "    \n",
    "    if face_locations==[]:\n",
    "        print(filename)\n",
    "        continue\n",
    "        \n",
    "    top, right, bottom, left = face_locations[0]\n",
    "    \n",
    "    img=mpimg.imread(filename)\n",
    "    img = img[top:bottom, left:right,:]\n",
    "    output_name = './cropped/'+filename[11:21]+'.png'\n",
    "    scipy.misc.imsave(output_name, img)"
   ]
  },
  {
   "cell_type": "code",
   "execution_count": null,
   "metadata": {},
   "outputs": [],
   "source": []
  }
 ],
 "metadata": {
  "kernelspec": {
   "display_name": "Python 3",
   "language": "python",
   "name": "python3"
  },
  "language_info": {
   "codemirror_mode": {
    "name": "ipython",
    "version": 3
   },
   "file_extension": ".py",
   "mimetype": "text/x-python",
   "name": "python",
   "nbconvert_exporter": "python",
   "pygments_lexer": "ipython3",
   "version": "3.6.4"
  }
 },
 "nbformat": 4,
 "nbformat_minor": 2
}
